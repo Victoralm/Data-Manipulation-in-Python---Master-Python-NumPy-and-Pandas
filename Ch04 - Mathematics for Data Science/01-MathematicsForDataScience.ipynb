{
 "cells": [
  {
   "cell_type": "code",
   "execution_count": null,
   "metadata": {},
   "outputs": [],
   "source": [
    "#Mathematics for Data Science"
   ]
  },
  {
   "cell_type": "markdown",
   "metadata": {},
   "source": [
    "## Mathematics for Data Science\n",
    "\n",
    "NumPy provides us with a huge collection of high-level functions for\n",
    "  multi-dimensional arrays\n",
    "\n",
    "### .zeros()\n",
    "\n",
    "- To create a NumPy array prefilled with zeros, we can use the `.zeros()`\n",
    "  built-in NumPy functions\n",
    "- To convert a list prefiled with zeros into a integer list, we use the\n",
    "  `astype()` function"
   ]
  },
  {
   "cell_type": "code",
   "execution_count": 2,
   "metadata": {},
   "outputs": [
    {
     "name": "stdout",
     "output_type": "stream",
     "text": [
      "[0. 0. 0. 0. 0. 0. 0. 0. 0. 0.]\n",
      "<class 'numpy.ndarray'>\n",
      "[0 0 0 0 0 0 0 0 0 0]\n",
      "<class 'numpy.ndarray'>\n"
     ]
    }
   ],
   "source": [
    "import numpy as np\n",
    "\n",
    "zerosArray = np.zeros(10) # create an array with 10 zeros (float)\n",
    "print(zerosArray)\n",
    "print(type(zerosArray))\n",
    "\n",
    "zArrConverted = zerosArray.astype(int)\n",
    "print(zArrConverted)\n",
    "print(type(zArrConverted))"
   ]
  },
  {
   "cell_type": "markdown",
   "metadata": {},
   "source": [
    "### .ones()\n",
    "\n",
    "- To create a NumPy array prefilled with ones, we can use the `.ones()`\n",
    "  built-in NumPy functions\n",
    "- To convert a list prefiled with zeros into a integer list, we use the\n",
    "  `astype()` function"
   ]
  },
  {
   "cell_type": "code",
   "execution_count": 3,
   "metadata": {},
   "outputs": [
    {
     "name": "stdout",
     "output_type": "stream",
     "text": [
      "[1. 1. 1. 1. 1. 1. 1. 1. 1. 1.]\n",
      "<class 'numpy.ndarray'>\n",
      "[1 1 1 1 1 1 1 1 1 1]\n",
      "<class 'numpy.ndarray'>\n"
     ]
    }
   ],
   "source": [
    "import numpy as np\n",
    "\n",
    "onesArray = np.ones(10) # create an array with 10 ones (float)\n",
    "print(onesArray)\n",
    "print(type(onesArray))\n",
    "\n",
    "oArrConverted = onesArray.astype(int)\n",
    "print(oArrConverted)\n",
    "print(type(oArrConverted))"
   ]
  },
  {
   "cell_type": "markdown",
   "metadata": {},
   "source": [
    "### .full()\n",
    "\n",
    "- To create a NumPy array prefilled with some specific number, we can use the `.full()`\n",
    "  built-in NumPy functions:\n",
    "  - 1st argument in the full() function is the size of the array\n",
    "  - 2nd argument is the value the we want our list to be prefilled with"
   ]
  },
  {
   "cell_type": "code",
   "execution_count": 6,
   "metadata": {},
   "outputs": [
    {
     "name": "stdout",
     "output_type": "stream",
     "text": [
      "[7 7 7 7 7 7 7 7 7 7]\n",
      "<class 'numpy.ndarray'>\n",
      "[7.9 7.9 7.9 7.9 7.9 7.9 7.9 7.9 7.9 7.9]\n",
      "<class 'numpy.ndarray'>\n"
     ]
    }
   ],
   "source": [
    "import numpy as np\n",
    "\n",
    "fullArray = np.full(10, 7) # create an array with 10 sevens\n",
    "print(fullArray)\n",
    "print(type(fullArray))\n",
    "\n",
    "fullArray2 = np.full(10, 7.9) # create an array with 10 sevens dot nine (floats)\n",
    "print(fullArray2)\n",
    "print(type(fullArray2))"
   ]
  }
 ],
 "metadata": {
  "kernelspec": {
   "display_name": "base",
   "language": "python",
   "name": "python3"
  },
  "language_info": {
   "codemirror_mode": {
    "name": "ipython",
    "version": 3
   },
   "file_extension": ".py",
   "mimetype": "text/x-python",
   "name": "python",
   "nbconvert_exporter": "python",
   "pygments_lexer": "ipython3",
   "version": "3.12.4"
  }
 },
 "nbformat": 4,
 "nbformat_minor": 2
}
