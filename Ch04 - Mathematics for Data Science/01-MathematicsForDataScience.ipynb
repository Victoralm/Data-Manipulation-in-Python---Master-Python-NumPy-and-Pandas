{
 "cells": [
  {
   "cell_type": "code",
   "execution_count": null,
   "metadata": {},
   "outputs": [],
   "source": [
    "#Mathematics for Data Science"
   ]
  },
  {
   "cell_type": "markdown",
   "metadata": {},
   "source": [
    "## Mathematics for Data Science\n",
    "\n",
    "NumPy provides us with a huge collection of high-level functions for\n",
    "  multi-dimensional arrays\n",
    "\n",
    "### .zeros()\n",
    "\n",
    "- To create a NumPy array prefilled with zeros, we can use the `.zeros()`\n",
    "  built-in NumPy functions\n",
    "- To convert a list prefiled with zeros into a integer list, we use the\n",
    "  `astype()` function"
   ]
  },
  {
   "cell_type": "code",
   "execution_count": 2,
   "metadata": {},
   "outputs": [
    {
     "name": "stdout",
     "output_type": "stream",
     "text": [
      "[0. 0. 0. 0. 0. 0. 0. 0. 0. 0.]\n",
      "<class 'numpy.ndarray'>\n",
      "[0 0 0 0 0 0 0 0 0 0]\n",
      "<class 'numpy.ndarray'>\n"
     ]
    }
   ],
   "source": [
    "import numpy as np\n",
    "\n",
    "zerosArray = np.zeros(10) # create an array with 10 zeros (float)\n",
    "print(zerosArray)\n",
    "print(type(zerosArray))\n",
    "\n",
    "zArrConverted = zerosArray.astype(int)\n",
    "print(zArrConverted)\n",
    "print(type(zArrConverted))"
   ]
  }
 ],
 "metadata": {
  "kernelspec": {
   "display_name": "base",
   "language": "python",
   "name": "python3"
  },
  "language_info": {
   "codemirror_mode": {
    "name": "ipython",
    "version": 3
   },
   "file_extension": ".py",
   "mimetype": "text/x-python",
   "name": "python",
   "nbconvert_exporter": "python",
   "pygments_lexer": "ipython3",
   "version": "3.12.4"
  }
 },
 "nbformat": 4,
 "nbformat_minor": 2
}
