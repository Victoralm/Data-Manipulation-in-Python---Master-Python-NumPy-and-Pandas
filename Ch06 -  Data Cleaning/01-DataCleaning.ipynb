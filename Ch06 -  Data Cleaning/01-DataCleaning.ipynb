{
 "cells": [
  {
   "cell_type": "markdown",
   "metadata": {},
   "source": [
    "## Introducing to Data Cleaning\n",
    "\n",
    "Data extracted from the real world contains incorrect, incomplete, irrelevant or\n",
    "missing values which need to be cleaned.\n",
    "\n",
    "Cleaning can be done by modifying, replacing or deleting such values.\n",
    "\n",
    "Data cleaning is a fundamental part of Data Science lifecycle.\n",
    "\n",
    "### Quality of Data\n",
    "\n",
    "Today's world is all about data-driven decision making, hence the quality of our\n",
    "data will ultimately impact the quality of the decision that we make based on\n",
    "that data.\n",
    "\n",
    "Data is generally considered high quality if it is \"fit for [its] intended uses\n",
    "in operations, decision making and planning\".\n",
    "\n",
    "Through different data cleaning techniques, we can improve the quality of our\n",
    "data extracted from the real world."
   ]
  },
  {
   "cell_type": "markdown",
   "metadata": {},
   "source": [
    "### Examples of Anomalies\n",
    "\n",
    "An anomaly in data, also know as an outlier, is the observation which differs\n",
    "significantly from the standard pattern (the rest of the data).\n",
    "\n",
    "Anomalies in data could arise for a number of reasons, such as human error.\n",
    "\n",
    "Consider the given series containing width of a table measured by 5 different\n",
    "students:\n",
    "- The 3rd value is significantly different than the rest - an anomaly"
   ]
  },
  {
   "cell_type": "code",
   "execution_count": 3,
   "metadata": {},
   "outputs": [
    {
     "data": {
      "text/plain": [
       "0    2.1\n",
       "1    2.3\n",
       "2    4.5\n",
       "3    2.2\n",
       "4    2.4\n",
       "dtype: float64"
      ]
     },
     "metadata": {},
     "output_type": "display_data"
    },
    {
     "data": {
      "text/plain": [
       "pandas.core.series.Series"
      ]
     },
     "metadata": {},
     "output_type": "display_data"
    }
   ],
   "source": [
    "import pandas as pd\n",
    "\n",
    "x = pd.Series([2.1, 2.3, 4.5, 2.2, 2.4])\n",
    "display(x)\n",
    "display(type(x))"
   ]
  },
  {
   "cell_type": "markdown",
   "metadata": {},
   "source": [
    "- Data extracted from real world often contains such anomalies\n",
    "  - Temperature data over a period of 6 months might contain some irregular\n",
    "    values due to tremendous shifts in weather conditions\n",
    "- It is important to detect such anomalies in the data and deal with then appropriately\n",
    "- ![alt text](../img/06-DataAnomalies.png)"
   ]
  },
  {
   "cell_type": "markdown",
   "metadata": {},
   "source": [
    "### Median-based Anomaly Detection\n",
    "\n",
    "- One way to detect anomalies is using the median value\n",
    "- We set a reasonable threshold and if for a certain value, | value - median | >\n",
    "  threshold, then the value is considered an anomaly"
   ]
  },
  {
   "cell_type": "code",
   "execution_count": 5,
   "metadata": {},
   "outputs": [
    {
     "data": {
      "text/plain": [
       "[4.5]"
      ]
     },
     "metadata": {},
     "output_type": "display_data"
    }
   ],
   "source": [
    "import numpy as np\n",
    "\n",
    "median = np.median(x)\n",
    "threshold = 2\n",
    "outliers = []\n",
    "\n",
    "for item in x:\n",
    "    if abs(item - median) > threshold:\n",
    "        outliers.append(item)\n",
    "\n",
    "display(outliers)"
   ]
  },
  {
   "cell_type": "markdown",
   "metadata": {},
   "source": [
    "#### Quiz\n",
    "\n",
    "A certain dataset has a median value 3, and the threshold for anomaly detection\n",
    "is 2. Third value of the dataset is 7. According to the median-based anomaly\n",
    "detection, is the value an anomaly?\n",
    "- Yes, 7 minus 3 is 4, which is greater than the threshold."
   ]
  },
  {
   "cell_type": "markdown",
   "metadata": {},
   "source": [
    "### Mean-based Anomaly Detection\n",
    "\n",
    "- Another way to detect anomalies is using mean and standard deviation of the data\n",
    "- We define the range as (mean - standard deviation) <= value <= (mean + standard deviation)\n",
    "  - i.e., any value less than (mean - standard deviation) or greater than (mean\n",
    "    + standard deviation) is considered an anomaly"
   ]
  },
  {
   "cell_type": "code",
   "execution_count": 7,
   "metadata": {},
   "outputs": [
    {
     "data": {
      "text/plain": [
       "2.7"
      ]
     },
     "metadata": {},
     "output_type": "display_data"
    },
    {
     "data": {
      "text/plain": [
       "0.9055385138137416"
      ]
     },
     "metadata": {},
     "output_type": "display_data"
    },
    {
     "data": {
      "text/plain": [
       "[4.5]"
      ]
     },
     "metadata": {},
     "output_type": "display_data"
    }
   ],
   "source": [
    "mean = np.mean(x)\n",
    "display(mean)\n",
    "\n",
    "std = np.std(x)\n",
    "display(std)\n",
    "\n",
    "outliers = []\n",
    "\n",
    "for item in x:\n",
    "    if (item < mean - std) or (item > mean + std):\n",
    "        outliers.append(item)\n",
    "\n",
    "display(outliers)"
   ]
  },
  {
   "cell_type": "markdown",
   "metadata": {},
   "source": [
    "Sometimes you might want to define the lowerbound as mean minus two times standard deviationand the upper bound as mean plus two times standard deviation or even bigger."
   ]
  },
  {
   "cell_type": "markdown",
   "metadata": {},
   "source": [
    "#### Quiz\n",
    "\n",
    "A certain dataset has a mean value 20 and a standard deviation of 2.5. A certain\n",
    "value x in the dataset is 16. According to mean-based anomaly detection, is x an\n",
    "anomaly?\n",
    "- Yes, the value is 16 is less than the lower bound 17.5"
   ]
  },
  {
   "cell_type": "markdown",
   "metadata": {},
   "source": [
    "### Z-score-based Anomaly Detection\n",
    "\n",
    "- Another technique for anomaly detection is Z-score\n",
    "- Z-score is a statistical measure showing how many standard deviations a\n",
    "  certain value is from the mean\n",
    "- It is defined as:\n",
    "  - Z = (value - mean) / standard deviation\n",
    "- If the Z-score of a value ir greater than a reasonable threshold, it is\n",
    "  considered an anomaly"
   ]
  },
  {
   "cell_type": "code",
   "execution_count": 8,
   "metadata": {},
   "outputs": [
    {
     "data": {
      "text/plain": [
       "2.7"
      ]
     },
     "metadata": {},
     "output_type": "display_data"
    },
    {
     "data": {
      "text/plain": [
       "0.9055385138137416"
      ]
     },
     "metadata": {},
     "output_type": "display_data"
    },
    {
     "data": {
      "text/plain": [
       "[4.5]"
      ]
     },
     "metadata": {},
     "output_type": "display_data"
    }
   ],
   "source": [
    "mean = np.mean(x)\n",
    "display(mean)\n",
    "\n",
    "std = np.std(x)\n",
    "display(std)\n",
    "\n",
    "outliers = []\n",
    "\n",
    "threshold = 1.5\n",
    "\n",
    "for item in x:\n",
    "    z_score = (item - mean) / std\n",
    "    if z_score > threshold:\n",
    "        outliers.append(item)\n",
    "\n",
    "display(outliers)"
   ]
  },
  {
   "cell_type": "markdown",
   "metadata": {},
   "source": [
    "#### Quiz\n",
    "\n",
    "A certain dataset has a mean value of 12 and a standard deviation of 2. A\n",
    "certain value X in the dataset is 8, compute the Z-score of the value X.\n",
    "- The correct answer is 2."
   ]
  },
  {
   "cell_type": "markdown",
   "metadata": {},
   "source": [
    "### Interquartile Range for Anomaly Detection\n",
    "\n",
    "#### IQR\n",
    "\n",
    "- We can also use interquartile range (IQR) for detecting anomalies in the data\n",
    "- A quartile divides the dataset (sorted from smallest to largest) into 3 points\n",
    "  and 4 intervals\n",
    "- The first quartile is at 25%.The second, at 50% of the median and the third quartile is at 75.\n",
    "- The interquartile range (IQR) is the diference between the 3rd quartile and\n",
    "  1st quartile (IQR = Q3 - Q1)\n",
    "  ![alt text](../img/06-InterquartileAnomaliesDetection.png)\n",
    "- The difference between the third and the first quartile is called the interquartile range and is an effective metric to detect anomaly in the data."
   ]
  },
  {
   "cell_type": "markdown",
   "metadata": {},
   "source": [
    "- Consider the given list of weights. In order to compute the quartiles, we\n",
    "  first need to sort the data from smallest to largest value. Which is the\n",
    "  second list that you see on the screen."
   ]
  },
  {
   "cell_type": "code",
   "execution_count": 9,
   "metadata": {},
   "outputs": [
    {
     "data": {
      "text/plain": [
       "0    2.3\n",
       "1    2.2\n",
       "2    4.5\n",
       "3    2.1\n",
       "4    2.5\n",
       "dtype: float64"
      ]
     },
     "execution_count": 9,
     "metadata": {},
     "output_type": "execute_result"
    }
   ],
   "source": [
    "widths = pd.Series([2.3, 2.2, 4.5, 2.1, 2.5])\n",
    "widths"
   ]
  },
  {
   "cell_type": "code",
   "execution_count": 11,
   "metadata": {},
   "outputs": [
    {
     "data": {
      "text/plain": [
       "0    2.1\n",
       "1    2.2\n",
       "2    2.3\n",
       "3    2.5\n",
       "4    4.5\n",
       "dtype: float64"
      ]
     },
     "execution_count": 11,
     "metadata": {},
     "output_type": "execute_result"
    }
   ],
   "source": [
    "widthsSorted = widths.sort_values().reset_index(drop=True)\n",
    "widthsSorted"
   ]
  },
  {
   "cell_type": "markdown",
   "metadata": {},
   "source": [
    "- The first quartile also known as Q1 is the value at 25% of the data. Which is\n",
    "  2.2.\n",
    "- The second quartile also known as Q2 is the value at 50% of the data,\n",
    "  which also happens to be the median of the dataset. In this case, Q2 is 2.3\n",
    "- The third quartile or Q3 is the value at 75%, which is in this case is 2.5\n",
    "- The interquartile range is the difference between Q3 and Q1\n",
    "- We can compute quartiles in Python using the `numpy.percentile()` function\n",
    "  available inside the NumPy library\n",
    "  - It sorts the data automatically before computing the quartiles\n",
    "  - Any value in the data that is less than (Q1 - 1.5 *  IQR) or bigger than (Q3 + 1.5 *IQR) is regarded as anomaly."
   ]
  },
  {
   "cell_type": "code",
   "execution_count": 15,
   "metadata": {},
   "outputs": [
    {
     "data": {
      "text/plain": [
       "0    2.3\n",
       "1    2.2\n",
       "2    4.5\n",
       "3    2.1\n",
       "4    2.5\n",
       "dtype: float64"
      ]
     },
     "metadata": {},
     "output_type": "display_data"
    },
    {
     "data": {
      "text/plain": [
       "2.2"
      ]
     },
     "metadata": {},
     "output_type": "display_data"
    },
    {
     "data": {
      "text/plain": [
       "2.5"
      ]
     },
     "metadata": {},
     "output_type": "display_data"
    },
    {
     "data": {
      "text/plain": [
       "0.2999999999999998"
      ]
     },
     "metadata": {},
     "output_type": "display_data"
    },
    {
     "data": {
      "text/plain": [
       "[4.5]"
      ]
     },
     "metadata": {},
     "output_type": "display_data"
    }
   ],
   "source": [
    "display(widths)\n",
    "\n",
    "Q1, Q3 = np.percentile(widths, [25, 75])\n",
    "display(Q1)\n",
    "display(Q3)\n",
    "\n",
    "IQR = Q3 - Q1\n",
    "display(IQR)\n",
    "\n",
    "outliers = []\n",
    "\n",
    "threshold = 1.5\n",
    "\n",
    "for item in widths:\n",
    "    if item < (Q1 - threshold * IQR) or item > (Q3 + threshold * IQR):\n",
    "        outliers.append(item)\n",
    "\n",
    "display(outliers)"
   ]
  },
  {
   "cell_type": "markdown",
   "metadata": {},
   "source": [
    "In all the methods for anomaly detection, we got the same result. However, this is not always the case"
   ]
  },
  {
   "cell_type": "markdown",
   "metadata": {},
   "source": [
    "#### Quiz\n",
    "\n",
    "Remember that first quartile is the value of 25% of the dataset. Second quartile\n",
    "is the median value and the third quartile is the value at 75% of the\n",
    "dataset.\n",
    "\n",
    "Consider the given dataset x=[1, 2, 3, 4, 5]. What is the second quartile (Q2)\n",
    "of the dataset?\n",
    "- 3\n",
    "\n",
    "Compute the interquartile range for the dataset x=[1, 2, 3, 4, 5]:\n",
    "- 2"
   ]
  },
  {
   "cell_type": "markdown",
   "metadata": {},
   "source": [
    "### Dealing with Missing values\n",
    "\n",
    "- Apart from outliers/anomalies, data also often contains missing values\n",
    "- A missing value means a loss of information\n",
    "- In Pandas, an NaN indicates a missing value\n",
    "\n",
    "Consider the following dataframe called data with one missing value in the\n",
    "**Age** column:"
   ]
  },
  {
   "cell_type": "code",
   "execution_count": 20,
   "metadata": {},
   "outputs": [
    {
     "data": {
      "text/html": [
       "<div>\n",
       "<style scoped>\n",
       "    .dataframe tbody tr th:only-of-type {\n",
       "        vertical-align: middle;\n",
       "    }\n",
       "\n",
       "    .dataframe tbody tr th {\n",
       "        vertical-align: top;\n",
       "    }\n",
       "\n",
       "    .dataframe thead th {\n",
       "        text-align: right;\n",
       "    }\n",
       "</style>\n",
       "<table border=\"1\" class=\"dataframe\">\n",
       "  <thead>\n",
       "    <tr style=\"text-align: right;\">\n",
       "      <th></th>\n",
       "      <th>Name</th>\n",
       "      <th>Age</th>\n",
       "    </tr>\n",
       "  </thead>\n",
       "  <tbody>\n",
       "    <tr>\n",
       "      <th>0</th>\n",
       "      <td>Edison</td>\n",
       "      <td>28.0</td>\n",
       "    </tr>\n",
       "    <tr>\n",
       "      <th>1</th>\n",
       "      <td>Edward</td>\n",
       "      <td>27.0</td>\n",
       "    </tr>\n",
       "    <tr>\n",
       "      <th>2</th>\n",
       "      <td>James</td>\n",
       "      <td>NaN</td>\n",
       "    </tr>\n",
       "    <tr>\n",
       "      <th>3</th>\n",
       "      <td>Neesham</td>\n",
       "      <td>36.0</td>\n",
       "    </tr>\n",
       "  </tbody>\n",
       "</table>\n",
       "</div>"
      ],
      "text/plain": [
       "      Name   Age\n",
       "0   Edison  28.0\n",
       "1   Edward  27.0\n",
       "2    James   NaN\n",
       "3  Neesham  36.0"
      ]
     },
     "execution_count": 20,
     "metadata": {},
     "output_type": "execute_result"
    }
   ],
   "source": [
    "data = pd.DataFrame({'Name': ['Edison', 'Edward', 'James', 'Neesham'], 'Age': [28, 27, np.nan, 36]})\n",
    "\n",
    "data"
   ]
  },
  {
   "cell_type": "markdown",
   "metadata": {},
   "source": [
    "#### Finding Missing Values in Pandas\n",
    "\n",
    "- The `.isnull()` function tells us if a cell is empty or not\n",
    "- Use the `.sum()` function with the `.isnull()` function to find total number\n",
    "  of missing values in the data"
   ]
  },
  {
   "cell_type": "code",
   "execution_count": 21,
   "metadata": {},
   "outputs": [
    {
     "data": {
      "text/html": [
       "<div>\n",
       "<style scoped>\n",
       "    .dataframe tbody tr th:only-of-type {\n",
       "        vertical-align: middle;\n",
       "    }\n",
       "\n",
       "    .dataframe tbody tr th {\n",
       "        vertical-align: top;\n",
       "    }\n",
       "\n",
       "    .dataframe thead th {\n",
       "        text-align: right;\n",
       "    }\n",
       "</style>\n",
       "<table border=\"1\" class=\"dataframe\">\n",
       "  <thead>\n",
       "    <tr style=\"text-align: right;\">\n",
       "      <th></th>\n",
       "      <th>Name</th>\n",
       "      <th>Age</th>\n",
       "    </tr>\n",
       "  </thead>\n",
       "  <tbody>\n",
       "    <tr>\n",
       "      <th>0</th>\n",
       "      <td>False</td>\n",
       "      <td>False</td>\n",
       "    </tr>\n",
       "    <tr>\n",
       "      <th>1</th>\n",
       "      <td>False</td>\n",
       "      <td>False</td>\n",
       "    </tr>\n",
       "    <tr>\n",
       "      <th>2</th>\n",
       "      <td>False</td>\n",
       "      <td>True</td>\n",
       "    </tr>\n",
       "    <tr>\n",
       "      <th>3</th>\n",
       "      <td>False</td>\n",
       "      <td>False</td>\n",
       "    </tr>\n",
       "  </tbody>\n",
       "</table>\n",
       "</div>"
      ],
      "text/plain": [
       "    Name    Age\n",
       "0  False  False\n",
       "1  False  False\n",
       "2  False   True\n",
       "3  False  False"
      ]
     },
     "metadata": {},
     "output_type": "display_data"
    },
    {
     "data": {
      "text/plain": [
       "Name    0\n",
       "Age     1\n",
       "dtype: int64"
      ]
     },
     "metadata": {},
     "output_type": "display_data"
    }
   ],
   "source": [
    "display(data.isnull())\n",
    "display(data.isnull().sum())"
   ]
  },
  {
   "cell_type": "markdown",
   "metadata": {},
   "source": [
    "- There are a number of ways to deal with these missing values\n",
    "- Which method to use depends upon the kind of data and the task that the data\n",
    "  is supposed to accomplish\n",
    "- Different methods are:\n",
    "  - Deleting rows with missing values (can cause a significant lost of information)\n",
    "  - Replacing missing values with mean/median/mode (can be a better option for\n",
    "    some cases)"
   ]
  },
  {
   "cell_type": "markdown",
   "metadata": {},
   "source": [
    "- One way to deal with the missing values is to delete the rows containing\n",
    "  missing values\n",
    "- Use the `.dropna()` with inplace set to `True` to remove missing values from\n",
    "  the dataset"
   ]
  },
  {
   "cell_type": "code",
   "execution_count": 24,
   "metadata": {},
   "outputs": [
    {
     "data": {
      "text/html": [
       "<div>\n",
       "<style scoped>\n",
       "    .dataframe tbody tr th:only-of-type {\n",
       "        vertical-align: middle;\n",
       "    }\n",
       "\n",
       "    .dataframe tbody tr th {\n",
       "        vertical-align: top;\n",
       "    }\n",
       "\n",
       "    .dataframe thead th {\n",
       "        text-align: right;\n",
       "    }\n",
       "</style>\n",
       "<table border=\"1\" class=\"dataframe\">\n",
       "  <thead>\n",
       "    <tr style=\"text-align: right;\">\n",
       "      <th></th>\n",
       "      <th>Name</th>\n",
       "      <th>Age</th>\n",
       "    </tr>\n",
       "  </thead>\n",
       "  <tbody>\n",
       "    <tr>\n",
       "      <th>0</th>\n",
       "      <td>Edison</td>\n",
       "      <td>28.0</td>\n",
       "    </tr>\n",
       "    <tr>\n",
       "      <th>1</th>\n",
       "      <td>Edward</td>\n",
       "      <td>27.0</td>\n",
       "    </tr>\n",
       "    <tr>\n",
       "      <th>3</th>\n",
       "      <td>Neesham</td>\n",
       "      <td>36.0</td>\n",
       "    </tr>\n",
       "  </tbody>\n",
       "</table>\n",
       "</div>"
      ],
      "text/plain": [
       "      Name   Age\n",
       "0   Edison  28.0\n",
       "1   Edward  27.0\n",
       "3  Neesham  36.0"
      ]
     },
     "execution_count": 24,
     "metadata": {},
     "output_type": "execute_result"
    }
   ],
   "source": [
    "data.dropna(inplace=True)\n",
    "data"
   ]
  },
  {
   "cell_type": "markdown",
   "metadata": {},
   "source": [
    "- We can also replace the missing values in each column with one of the\n",
    "  statistical measures (mean/median/mode) of that column"
   ]
  },
  {
   "cell_type": "code",
   "execution_count": 34,
   "metadata": {},
   "outputs": [
    {
     "data": {
      "text/html": [
       "<div>\n",
       "<style scoped>\n",
       "    .dataframe tbody tr th:only-of-type {\n",
       "        vertical-align: middle;\n",
       "    }\n",
       "\n",
       "    .dataframe tbody tr th {\n",
       "        vertical-align: top;\n",
       "    }\n",
       "\n",
       "    .dataframe thead th {\n",
       "        text-align: right;\n",
       "    }\n",
       "</style>\n",
       "<table border=\"1\" class=\"dataframe\">\n",
       "  <thead>\n",
       "    <tr style=\"text-align: right;\">\n",
       "      <th></th>\n",
       "      <th>Name</th>\n",
       "      <th>Age</th>\n",
       "    </tr>\n",
       "  </thead>\n",
       "  <tbody>\n",
       "    <tr>\n",
       "      <th>0</th>\n",
       "      <td>Edison</td>\n",
       "      <td>28.0</td>\n",
       "    </tr>\n",
       "    <tr>\n",
       "      <th>1</th>\n",
       "      <td>Edward</td>\n",
       "      <td>27.0</td>\n",
       "    </tr>\n",
       "    <tr>\n",
       "      <th>2</th>\n",
       "      <td>James</td>\n",
       "      <td>NaN</td>\n",
       "    </tr>\n",
       "    <tr>\n",
       "      <th>3</th>\n",
       "      <td>Neesham</td>\n",
       "      <td>36.0</td>\n",
       "    </tr>\n",
       "  </tbody>\n",
       "</table>\n",
       "</div>"
      ],
      "text/plain": [
       "      Name   Age\n",
       "0   Edison  28.0\n",
       "1   Edward  27.0\n",
       "2    James   NaN\n",
       "3  Neesham  36.0"
      ]
     },
     "metadata": {},
     "output_type": "display_data"
    },
    {
     "data": {
      "text/plain": [
       "30.333333333333332"
      ]
     },
     "metadata": {},
     "output_type": "display_data"
    },
    {
     "data": {
      "text/html": [
       "<div>\n",
       "<style scoped>\n",
       "    .dataframe tbody tr th:only-of-type {\n",
       "        vertical-align: middle;\n",
       "    }\n",
       "\n",
       "    .dataframe tbody tr th {\n",
       "        vertical-align: top;\n",
       "    }\n",
       "\n",
       "    .dataframe thead th {\n",
       "        text-align: right;\n",
       "    }\n",
       "</style>\n",
       "<table border=\"1\" class=\"dataframe\">\n",
       "  <thead>\n",
       "    <tr style=\"text-align: right;\">\n",
       "      <th></th>\n",
       "      <th>Name</th>\n",
       "      <th>Age</th>\n",
       "    </tr>\n",
       "  </thead>\n",
       "  <tbody>\n",
       "    <tr>\n",
       "      <th>0</th>\n",
       "      <td>Edison</td>\n",
       "      <td>28.000000</td>\n",
       "    </tr>\n",
       "    <tr>\n",
       "      <th>1</th>\n",
       "      <td>Edward</td>\n",
       "      <td>27.000000</td>\n",
       "    </tr>\n",
       "    <tr>\n",
       "      <th>2</th>\n",
       "      <td>James</td>\n",
       "      <td>30.333333</td>\n",
       "    </tr>\n",
       "    <tr>\n",
       "      <th>3</th>\n",
       "      <td>Neesham</td>\n",
       "      <td>36.000000</td>\n",
       "    </tr>\n",
       "  </tbody>\n",
       "</table>\n",
       "</div>"
      ],
      "text/plain": [
       "      Name        Age\n",
       "0   Edison  28.000000\n",
       "1   Edward  27.000000\n",
       "2    James  30.333333\n",
       "3  Neesham  36.000000"
      ]
     },
     "execution_count": 34,
     "metadata": {},
     "output_type": "execute_result"
    }
   ],
   "source": [
    "from numpy import NaN\n",
    "\n",
    "data1 = {'Name': ['Edison', 'Edward', 'James', 'Neesham'], 'Age': [28, 27, NaN, 36]}\n",
    "data = pd.DataFrame.from_dict(data1)\n",
    "display(data)\n",
    "\n",
    "mean = data['Age'].mean()\n",
    "display(mean)\n",
    "\n",
    "data.fillna(mean, inplace=True) # Fills NaN values in all columns\n",
    "\n",
    "data"
   ]
  },
  {
   "cell_type": "markdown",
   "metadata": {},
   "source": [
    "- In the following example, we replace the missing value in the **Age** column with\n",
    "  the mode of the **Age** column. Mode is the value that appears most often"
   ]
  },
  {
   "cell_type": "code",
   "execution_count": 35,
   "metadata": {},
   "outputs": [
    {
     "data": {
      "text/html": [
       "<div>\n",
       "<style scoped>\n",
       "    .dataframe tbody tr th:only-of-type {\n",
       "        vertical-align: middle;\n",
       "    }\n",
       "\n",
       "    .dataframe tbody tr th {\n",
       "        vertical-align: top;\n",
       "    }\n",
       "\n",
       "    .dataframe thead th {\n",
       "        text-align: right;\n",
       "    }\n",
       "</style>\n",
       "<table border=\"1\" class=\"dataframe\">\n",
       "  <thead>\n",
       "    <tr style=\"text-align: right;\">\n",
       "      <th></th>\n",
       "      <th>Name</th>\n",
       "      <th>Age</th>\n",
       "    </tr>\n",
       "  </thead>\n",
       "  <tbody>\n",
       "    <tr>\n",
       "      <th>0</th>\n",
       "      <td>Edison</td>\n",
       "      <td>28.0</td>\n",
       "    </tr>\n",
       "    <tr>\n",
       "      <th>1</th>\n",
       "      <td>Edward</td>\n",
       "      <td>27.0</td>\n",
       "    </tr>\n",
       "    <tr>\n",
       "      <th>2</th>\n",
       "      <td>James</td>\n",
       "      <td>NaN</td>\n",
       "    </tr>\n",
       "    <tr>\n",
       "      <th>3</th>\n",
       "      <td>Neesham</td>\n",
       "      <td>36.0</td>\n",
       "    </tr>\n",
       "  </tbody>\n",
       "</table>\n",
       "</div>"
      ],
      "text/plain": [
       "      Name   Age\n",
       "0   Edison  28.0\n",
       "1   Edward  27.0\n",
       "2    James   NaN\n",
       "3  Neesham  36.0"
      ]
     },
     "metadata": {},
     "output_type": "display_data"
    },
    {
     "data": {
      "text/plain": [
       "0    27.0\n",
       "1    28.0\n",
       "2    36.0\n",
       "Name: Age, dtype: float64"
      ]
     },
     "metadata": {},
     "output_type": "display_data"
    },
    {
     "name": "stderr",
     "output_type": "stream",
     "text": [
      "C:\\Users\\FIA\\AppData\\Local\\Temp\\ipykernel_34804\\3212948835.py:7: FutureWarning: A value is trying to be set on a copy of a DataFrame or Series through chained assignment using an inplace method.\n",
      "The behavior will change in pandas 3.0. This inplace method will never work because the intermediate object on which we are setting values always behaves as a copy.\n",
      "\n",
      "For example, when doing 'df[col].method(value, inplace=True)', try using 'df.method({col: value}, inplace=True)' or df[col] = df[col].method(value) instead, to perform the operation inplace on the original object.\n",
      "\n",
      "\n",
      "  data['Age'].fillna(mode[0], inplace=True)\n"
     ]
    },
    {
     "data": {
      "text/html": [
       "<div>\n",
       "<style scoped>\n",
       "    .dataframe tbody tr th:only-of-type {\n",
       "        vertical-align: middle;\n",
       "    }\n",
       "\n",
       "    .dataframe tbody tr th {\n",
       "        vertical-align: top;\n",
       "    }\n",
       "\n",
       "    .dataframe thead th {\n",
       "        text-align: right;\n",
       "    }\n",
       "</style>\n",
       "<table border=\"1\" class=\"dataframe\">\n",
       "  <thead>\n",
       "    <tr style=\"text-align: right;\">\n",
       "      <th></th>\n",
       "      <th>Name</th>\n",
       "      <th>Age</th>\n",
       "    </tr>\n",
       "  </thead>\n",
       "  <tbody>\n",
       "    <tr>\n",
       "      <th>0</th>\n",
       "      <td>Edison</td>\n",
       "      <td>28.0</td>\n",
       "    </tr>\n",
       "    <tr>\n",
       "      <th>1</th>\n",
       "      <td>Edward</td>\n",
       "      <td>27.0</td>\n",
       "    </tr>\n",
       "    <tr>\n",
       "      <th>2</th>\n",
       "      <td>James</td>\n",
       "      <td>27.0</td>\n",
       "    </tr>\n",
       "    <tr>\n",
       "      <th>3</th>\n",
       "      <td>Neesham</td>\n",
       "      <td>36.0</td>\n",
       "    </tr>\n",
       "  </tbody>\n",
       "</table>\n",
       "</div>"
      ],
      "text/plain": [
       "      Name   Age\n",
       "0   Edison  28.0\n",
       "1   Edward  27.0\n",
       "2    James  27.0\n",
       "3  Neesham  36.0"
      ]
     },
     "metadata": {},
     "output_type": "display_data"
    }
   ],
   "source": [
    "data = pd.DataFrame({'Name': ['Edison', 'Edward', 'James', 'Neesham'], 'Age': [28, 27, np.nan, 36]})\n",
    "display(data)\n",
    "\n",
    "mode = data['Age'].mode()\n",
    "display(mode)\n",
    "\n",
    "data['Age'].fillna(mode[0], inplace=True)\n",
    "display(data)"
   ]
  },
  {
   "cell_type": "markdown",
   "metadata": {},
   "source": [
    "### Regular Expressions\n",
    "\n",
    "- Regular Expressions or RegEx is an expression containing a sequence of\n",
    "  characters for matching patterns in strings\n",
    "- Almost all the major programming languages have a implementation for RegEx\n",
    "- The `re` module of Python is used for pattern matching using RegEx in Python\n",
    "- Following functions are available in the RegEx module:\n",
    "  - `findall()`\n",
    "  - `search()`\n",
    "  - `sub()`"
   ]
  },
  {
   "cell_type": "markdown",
   "metadata": {},
   "source": [
    "#### re.findall()\n",
    "\n",
    "- Used to match all the occurrences of a pattern in a string\n",
    "- A List with all the matches is returned\n",
    "- In the given example, we find how many times does the word \"Python\" appear in\n",
    "  the given string"
   ]
  },
  {
   "cell_type": "code",
   "execution_count": 36,
   "metadata": {},
   "outputs": [
    {
     "data": {
      "text/plain": [
       "['Python', 'Python']"
      ]
     },
     "metadata": {},
     "output_type": "display_data"
    },
    {
     "data": {
      "text/plain": [
       "2"
      ]
     },
     "metadata": {},
     "output_type": "display_data"
    }
   ],
   "source": [
    "import re\n",
    "\n",
    "txt = 'Python is a good programming language. Is nice to use Python'\n",
    "x = re.findall('Python', txt)\n",
    "display(x)\n",
    "display(len(x))"
   ]
  },
  {
   "cell_type": "markdown",
   "metadata": {},
   "source": [
    "- In the given example, we check if the string \"x\" starts with the word \"Python\"\n",
    "  or not\n",
    "- The `^` character returns a match only if the string starts with the pattern\n",
    "  given after the `^` symbol\n",
    "- The string \"y\" contains the word \"Python\", but doesn't begin with it, hence we\n",
    "  get an empty List"
   ]
  },
  {
   "cell_type": "code",
   "execution_count": 39,
   "metadata": {},
   "outputs": [
    {
     "data": {
      "text/plain": [
       "['Python']"
      ]
     },
     "metadata": {},
     "output_type": "display_data"
    },
    {
     "data": {
      "text/plain": [
       "[]"
      ]
     },
     "metadata": {},
     "output_type": "display_data"
    }
   ],
   "source": [
    "x = 'Python is a good programming language.'\n",
    "y = 'Is nice to use Python'\n",
    "\n",
    "display(re.findall('^Python', x))\n",
    "display(re.findall('^Python', y))"
   ]
  },
  {
   "cell_type": "markdown",
   "metadata": {},
   "source": [
    "- To match numbers in a string, we use the `\\d` sequence\n",
    "- A `+` sign at the end of a `\\d`, makes sure that number such as 50 is treated\n",
    "  as 50 and not as a 5 and a 0\n",
    "- You can find a list of sequences at https://www.w3schools.com/python/python_regex.asp"
   ]
  },
  {
   "cell_type": "code",
   "execution_count": 40,
   "metadata": {},
   "outputs": [
    {
     "name": "stderr",
     "output_type": "stream",
     "text": [
      "<>:3: SyntaxWarning: invalid escape sequence '\\d'\n",
      "<>:4: SyntaxWarning: invalid escape sequence '\\d'\n",
      "<>:3: SyntaxWarning: invalid escape sequence '\\d'\n",
      "<>:4: SyntaxWarning: invalid escape sequence '\\d'\n",
      "C:\\Users\\FIA\\AppData\\Local\\Temp\\ipykernel_34804\\1498139143.py:3: SyntaxWarning: invalid escape sequence '\\d'\n",
      "  display(re.findall('\\d', txt))\n",
      "C:\\Users\\FIA\\AppData\\Local\\Temp\\ipykernel_34804\\1498139143.py:4: SyntaxWarning: invalid escape sequence '\\d'\n",
      "  display(re.findall('\\d+', txt))\n"
     ]
    },
    {
     "data": {
      "text/plain": [
       "['1', '9', '9', '1']"
      ]
     },
     "metadata": {},
     "output_type": "display_data"
    },
    {
     "data": {
      "text/plain": [
       "['1991']"
      ]
     },
     "metadata": {},
     "output_type": "display_data"
    }
   ],
   "source": [
    "txt = 'Python was released in 1991'\n",
    "\n",
    "display(re.findall('\\d', txt))\n",
    "display(re.findall('\\d+', txt)) # Using '\\d+' to match more than one sequential occurrence"
   ]
  },
  {
   "cell_type": "markdown",
   "metadata": {},
   "source": [
    "- To find matches in a Series, we first convert the Series into a string using\n",
    "  the `.to_string()` function"
   ]
  },
  {
   "cell_type": "code",
   "execution_count": 42,
   "metadata": {},
   "outputs": [
    {
     "data": {
      "text/plain": [
       "0       Brasil\n",
       "1    Argentina\n",
       "2      Espanha\n",
       "3       Italia\n",
       "4       Brasil\n",
       "dtype: object"
      ]
     },
     "metadata": {},
     "output_type": "display_data"
    },
    {
     "data": {
      "text/plain": [
       "['Brasil', 'Brasil']"
      ]
     },
     "metadata": {},
     "output_type": "display_data"
    },
    {
     "data": {
      "text/plain": [
       "2"
      ]
     },
     "metadata": {},
     "output_type": "display_data"
    }
   ],
   "source": [
    "txtList = ['Brasil', 'Argentina', 'Espanha', 'Italia', 'Brasil']\n",
    "txt = pd.Series(txtList)\n",
    "\n",
    "display(txt)\n",
    "\n",
    "display(re.findall('Brasil', txt.to_string()))\n",
    "display(len(re.findall('Brasil', txt.to_string())))"
   ]
  },
  {
   "cell_type": "markdown",
   "metadata": {},
   "source": [
    "#### re.search()\n",
    "\n",
    "- `re.search()` returns a Match Object in case of a pattern match in the string\n",
    "- We can get the position of the match using the `.span()` method of the Match Object"
   ]
  },
  {
   "cell_type": "code",
   "execution_count": 43,
   "metadata": {},
   "outputs": [
    {
     "data": {
      "text/plain": [
       "<re.Match object; span=(6, 11), match='World'>"
      ]
     },
     "execution_count": 43,
     "metadata": {},
     "output_type": "execute_result"
    }
   ],
   "source": [
    "txt = 'Hello World'\n",
    "\n",
    "match_object = re.search('World', txt)\n",
    "match_object"
   ]
  },
  {
   "cell_type": "code",
   "execution_count": 44,
   "metadata": {},
   "outputs": [
    {
     "data": {
      "text/plain": [
       "(6, 11)"
      ]
     },
     "execution_count": 44,
     "metadata": {},
     "output_type": "execute_result"
    }
   ],
   "source": [
    "match_object.span()"
   ]
  },
  {
   "cell_type": "markdown",
   "metadata": {},
   "source": [
    "#### re.sub()\n",
    "\n",
    "- Used to replace text in a string with a different text"
   ]
  },
  {
   "cell_type": "code",
   "execution_count": 45,
   "metadata": {},
   "outputs": [
    {
     "data": {
      "text/plain": [
       "'Python is a good programming language'"
      ]
     },
     "execution_count": 45,
     "metadata": {},
     "output_type": "execute_result"
    }
   ],
   "source": [
    "txt = 'C is a good programming language'\n",
    "re.sub(pattern='C', repl='Python', string=txt)"
   ]
  },
  {
   "cell_type": "markdown",
   "metadata": {},
   "source": [
    "- https://regex101.com is a very good website to create and test regular expressions"
   ]
  },
  {
   "cell_type": "markdown",
   "metadata": {},
   "source": [
    "### Feature Scaling\n",
    "\n",
    "- Sometimes, we might wish to normalize the range of each feature (column) of\n",
    "  the given dataset\n",
    "- For example, consider the given DataFrame where the range of each feature\n",
    "  (column) is different\n",
    "- We would like to scale all the features to the same range, e.g. 0-1, 1-100, etc..."
   ]
  },
  {
   "cell_type": "code",
   "execution_count": 46,
   "metadata": {},
   "outputs": [
    {
     "data": {
      "text/html": [
       "<div>\n",
       "<style scoped>\n",
       "    .dataframe tbody tr th:only-of-type {\n",
       "        vertical-align: middle;\n",
       "    }\n",
       "\n",
       "    .dataframe tbody tr th {\n",
       "        vertical-align: top;\n",
       "    }\n",
       "\n",
       "    .dataframe thead th {\n",
       "        text-align: right;\n",
       "    }\n",
       "</style>\n",
       "<table border=\"1\" class=\"dataframe\">\n",
       "  <thead>\n",
       "    <tr style=\"text-align: right;\">\n",
       "      <th></th>\n",
       "      <th>Age</th>\n",
       "      <th>Salary</th>\n",
       "    </tr>\n",
       "  </thead>\n",
       "  <tbody>\n",
       "    <tr>\n",
       "      <th>0</th>\n",
       "      <td>28.0</td>\n",
       "      <td>10000</td>\n",
       "    </tr>\n",
       "    <tr>\n",
       "      <th>1</th>\n",
       "      <td>27.0</td>\n",
       "      <td>15000</td>\n",
       "    </tr>\n",
       "    <tr>\n",
       "      <th>2</th>\n",
       "      <td>30.0</td>\n",
       "      <td>11000</td>\n",
       "    </tr>\n",
       "    <tr>\n",
       "      <th>3</th>\n",
       "      <td>36.0</td>\n",
       "      <td>11000</td>\n",
       "    </tr>\n",
       "    <tr>\n",
       "      <th>4</th>\n",
       "      <td>27.0</td>\n",
       "      <td>13000</td>\n",
       "    </tr>\n",
       "  </tbody>\n",
       "</table>\n",
       "</div>"
      ],
      "text/plain": [
       "    Age  Salary\n",
       "0  28.0   10000\n",
       "1  27.0   15000\n",
       "2  30.0   11000\n",
       "3  36.0   11000\n",
       "4  27.0   13000"
      ]
     },
     "execution_count": 46,
     "metadata": {},
     "output_type": "execute_result"
    }
   ],
   "source": [
    "df = pd.DataFrame({'Age': [28.0, 27.0, 30.0, 36.0, 27.0], 'Salary': [10000, 15000, 11000, 11000, 13000]})\n",
    "df"
   ]
  },
  {
   "cell_type": "markdown",
   "metadata": {},
   "source": [
    "#### Normalization\n",
    "\n",
    "- One simple method of feature scaling is normalization, also called min-max scaling\n",
    "- For every value in the feature (column), we subtract the minimum value of the\n",
    "  particular feature (column) from it and divide it by the difference of maximum\n",
    "  and minimum value of the feature (column)\n",
    "  - Normalized value = (original value - minimum)/(maximum - minimum)\n",
    "- This method scales the features in the range [0-1]"
   ]
  },
  {
   "cell_type": "markdown",
   "metadata": {},
   "source": [
    "- For min-max scaling, use the following line of code:\n",
    "  - normalized_df = (df - df.min()) / (df.max() - df.min())\n",
    "- Pandas will automatically use the feature (column) min-max values for each feature"
   ]
  },
  {
   "cell_type": "code",
   "execution_count": 47,
   "metadata": {},
   "outputs": [
    {
     "data": {
      "text/html": [
       "<div>\n",
       "<style scoped>\n",
       "    .dataframe tbody tr th:only-of-type {\n",
       "        vertical-align: middle;\n",
       "    }\n",
       "\n",
       "    .dataframe tbody tr th {\n",
       "        vertical-align: top;\n",
       "    }\n",
       "\n",
       "    .dataframe thead th {\n",
       "        text-align: right;\n",
       "    }\n",
       "</style>\n",
       "<table border=\"1\" class=\"dataframe\">\n",
       "  <thead>\n",
       "    <tr style=\"text-align: right;\">\n",
       "      <th></th>\n",
       "      <th>Age</th>\n",
       "      <th>Salary</th>\n",
       "    </tr>\n",
       "  </thead>\n",
       "  <tbody>\n",
       "    <tr>\n",
       "      <th>0</th>\n",
       "      <td>0.111111</td>\n",
       "      <td>0.0</td>\n",
       "    </tr>\n",
       "    <tr>\n",
       "      <th>1</th>\n",
       "      <td>0.000000</td>\n",
       "      <td>1.0</td>\n",
       "    </tr>\n",
       "    <tr>\n",
       "      <th>2</th>\n",
       "      <td>0.333333</td>\n",
       "      <td>0.2</td>\n",
       "    </tr>\n",
       "    <tr>\n",
       "      <th>3</th>\n",
       "      <td>1.000000</td>\n",
       "      <td>0.2</td>\n",
       "    </tr>\n",
       "    <tr>\n",
       "      <th>4</th>\n",
       "      <td>0.000000</td>\n",
       "      <td>0.6</td>\n",
       "    </tr>\n",
       "  </tbody>\n",
       "</table>\n",
       "</div>"
      ],
      "text/plain": [
       "        Age  Salary\n",
       "0  0.111111     0.0\n",
       "1  0.000000     1.0\n",
       "2  0.333333     0.2\n",
       "3  1.000000     0.2\n",
       "4  0.000000     0.6"
      ]
     },
     "execution_count": 47,
     "metadata": {},
     "output_type": "execute_result"
    }
   ],
   "source": [
    "normalized_df = (df - df.min()) / (df.max() - df.min())\n",
    "normalized_df"
   ]
  },
  {
   "cell_type": "markdown",
   "metadata": {},
   "source": [
    "#### Standardization\n",
    "\n",
    "- In standardization, for each value of a feature (column), we subtract the mean\n",
    "  of that feature (column) from the value and divide the result by the standard\n",
    "  deviation of that feature (column)\n",
    "  - standardazed value = (original value - mean) / standard deviation\n",
    "- As result, the standard deviation of the feature (column) becames 1\n",
    "- Once again, Pandas will automatically use the feature (column) mean and std for each feature"
   ]
  },
  {
   "cell_type": "code",
   "execution_count": 49,
   "metadata": {},
   "outputs": [
    {
     "data": {
      "text/html": [
       "<div>\n",
       "<style scoped>\n",
       "    .dataframe tbody tr th:only-of-type {\n",
       "        vertical-align: middle;\n",
       "    }\n",
       "\n",
       "    .dataframe tbody tr th {\n",
       "        vertical-align: top;\n",
       "    }\n",
       "\n",
       "    .dataframe thead th {\n",
       "        text-align: right;\n",
       "    }\n",
       "</style>\n",
       "<table border=\"1\" class=\"dataframe\">\n",
       "  <thead>\n",
       "    <tr style=\"text-align: right;\">\n",
       "      <th></th>\n",
       "      <th>Age</th>\n",
       "      <th>Salary</th>\n",
       "    </tr>\n",
       "  </thead>\n",
       "  <tbody>\n",
       "    <tr>\n",
       "      <th>0</th>\n",
       "      <td>-0.423109</td>\n",
       "      <td>-1.0</td>\n",
       "    </tr>\n",
       "    <tr>\n",
       "      <th>1</th>\n",
       "      <td>-0.687552</td>\n",
       "      <td>1.5</td>\n",
       "    </tr>\n",
       "    <tr>\n",
       "      <th>2</th>\n",
       "      <td>0.105777</td>\n",
       "      <td>-0.5</td>\n",
       "    </tr>\n",
       "    <tr>\n",
       "      <th>3</th>\n",
       "      <td>1.692435</td>\n",
       "      <td>-0.5</td>\n",
       "    </tr>\n",
       "    <tr>\n",
       "      <th>4</th>\n",
       "      <td>-0.687552</td>\n",
       "      <td>0.5</td>\n",
       "    </tr>\n",
       "  </tbody>\n",
       "</table>\n",
       "</div>"
      ],
      "text/plain": [
       "        Age  Salary\n",
       "0 -0.423109    -1.0\n",
       "1 -0.687552     1.5\n",
       "2  0.105777    -0.5\n",
       "3  1.692435    -0.5\n",
       "4 -0.687552     0.5"
      ]
     },
     "execution_count": 49,
     "metadata": {},
     "output_type": "execute_result"
    }
   ],
   "source": [
    "standardazed_df = (df - df.mean()) / df.std()\n",
    "standardazed_df"
   ]
  },
  {
   "cell_type": "code",
   "execution_count": 51,
   "metadata": {},
   "outputs": [
    {
     "data": {
      "text/plain": [
       "Age       1.0\n",
       "Salary    1.0\n",
       "dtype: float64"
      ]
     },
     "execution_count": 51,
     "metadata": {},
     "output_type": "execute_result"
    }
   ],
   "source": [
    "standardazed_df.std()"
   ]
  }
 ],
 "metadata": {
  "kernelspec": {
   "display_name": "base",
   "language": "python",
   "name": "python3"
  },
  "language_info": {
   "codemirror_mode": {
    "name": "ipython",
    "version": 3
   },
   "file_extension": ".py",
   "mimetype": "text/x-python",
   "name": "python",
   "nbconvert_exporter": "python",
   "pygments_lexer": "ipython3",
   "version": "3.12.4"
  }
 },
 "nbformat": 4,
 "nbformat_minor": 2
}
