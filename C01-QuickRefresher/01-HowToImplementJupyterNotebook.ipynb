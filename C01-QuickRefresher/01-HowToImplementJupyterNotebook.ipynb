{
 "cells": [
  {
   "cell_type": "code",
   "execution_count": 1,
   "metadata": {},
   "outputs": [
    {
     "name": "stdout",
     "output_type": "stream",
     "text": [
      "Hello world!!\n"
     ]
    }
   ],
   "source": [
    "print(\"Hello world!!\")"
   ]
  },
  {
   "cell_type": "code",
   "execution_count": 2,
   "metadata": {},
   "outputs": [
    {
     "name": "stdout",
     "output_type": "stream",
     "text": [
      "Welcome Victor !!\n"
     ]
    }
   ],
   "source": [
    "name = input(\"Enter your name: \")\n",
    "print(\"Welcome\", name, \"!!\")"
   ]
  },
  {
   "cell_type": "markdown",
   "metadata": {},
   "source": [
    "## Data types\n",
    "Python has the following primitive Data Types:\n",
    "- int\n",
    "- float\n",
    "- string\n",
    "- bool\n",
    "\n",
    "And, also, the following built-in non-primitive Data Types:\n",
    "- Lists\n",
    "- Dictionaries\n",
    "- Tuples"
   ]
  },
  {
   "cell_type": "code",
   "execution_count": 5,
   "metadata": {},
   "outputs": [
    {
     "name": "stdout",
     "output_type": "stream",
     "text": [
      "<class 'int'>\n",
      "<class 'float'>\n",
      "<class 'str'>\n",
      "<class 'bool'>\n"
     ]
    }
   ],
   "source": [
    "# int\n",
    "print(type(5))\n",
    "# float\n",
    "print(type(2.5))\n",
    "# string\n",
    "print(type(\"Victor\"))\n",
    "# bool\n",
    "print(type(True))"
   ]
  },
  {
   "cell_type": "code",
   "execution_count": 10,
   "metadata": {},
   "outputs": [
    {
     "name": "stdout",
     "output_type": "stream",
     "text": [
      "1\n"
     ]
    },
    {
     "data": {
      "text/plain": [
       "int"
      ]
     },
     "metadata": {},
     "output_type": "display_data"
    }
   ],
   "source": [
    "# variables\n",
    "x = 1\n",
    "print(x)\n",
    "display(type(x))"
   ]
  },
  {
   "cell_type": "markdown",
   "metadata": {},
   "source": [
    "## Arithmetic Operators\n",
    "\n",
    "### Division\n",
    "There are two types of divisions in Python:\n",
    "- Float Division: Use \"/\" for float division. If the result is an integer, it'll\n",
    "  be converted to a float\n",
    "- Integer Division: Use \"//\" for integer division. If the result is a float,\n",
    "  it'll be converted to an int\n",
    "\n",
    "### Modulo\n",
    "\n",
    "- Modulo operator returns the remainder of a division\n",
    "- Use \"%\" operator "
   ]
  },
  {
   "cell_type": "code",
   "execution_count": 12,
   "metadata": {},
   "outputs": [
    {
     "name": "stdout",
     "output_type": "stream",
     "text": [
      "8\n",
      "4.5\n",
      "2.5\n",
      "2\n",
      "1\n"
     ]
    }
   ],
   "source": [
    "# add\n",
    "print(5+3)\n",
    "# sub\n",
    "print(6.5-2)\n",
    "# float div\n",
    "print(5/2)\n",
    "# int div\n",
    "print(5//2)\n",
    "# mod\n",
    "print(5%2)"
   ]
  },
  {
   "cell_type": "markdown",
   "metadata": {},
   "source": [
    "## Comparison Operators\n",
    "\n",
    "- Greater than \">\"\n",
    "- Lesser than \"<\"\n",
    "- Greater than or equal to \">=\"\n",
    "- Lesser than or equal to \"<=\"\n",
    "- Not equal to \"!=\"\n",
    "- Equal to \"==\""
   ]
  },
  {
   "cell_type": "markdown",
   "metadata": {},
   "source": []
  }
 ],
 "metadata": {
  "kernelspec": {
   "display_name": "base",
   "language": "python",
   "name": "python3"
  },
  "language_info": {
   "codemirror_mode": {
    "name": "ipython",
    "version": 3
   },
   "file_extension": ".py",
   "mimetype": "text/x-python",
   "name": "python",
   "nbconvert_exporter": "python",
   "pygments_lexer": "ipython3",
   "version": "3.12.4"
  }
 },
 "nbformat": 4,
 "nbformat_minor": 2
}
