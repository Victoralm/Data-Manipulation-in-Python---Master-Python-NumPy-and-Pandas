{
 "cells": [
  {
   "cell_type": "code",
   "execution_count": 1,
   "metadata": {},
   "outputs": [
    {
     "name": "stdout",
     "output_type": "stream",
     "text": [
      "Hello world!!\n"
     ]
    }
   ],
   "source": [
    "print(\"Hello world!!\")"
   ]
  },
  {
   "cell_type": "code",
   "execution_count": 2,
   "metadata": {},
   "outputs": [
    {
     "name": "stdout",
     "output_type": "stream",
     "text": [
      "Welcome Victor !!\n"
     ]
    }
   ],
   "source": [
    "name = input(\"Enter your name: \")\n",
    "print(\"Welcome\", name, \"!!\")"
   ]
  },
  {
   "cell_type": "markdown",
   "metadata": {},
   "source": [
    "## Data types\n",
    "Python has the following primitive Data Types:\n",
    "- int\n",
    "- float\n",
    "- string\n",
    "- bool\n",
    "\n",
    "And, also, the following built-in non-primitive Data Types:\n",
    "- Lists\n",
    "- Dictionaries\n",
    "- Tuples"
   ]
  },
  {
   "cell_type": "code",
   "execution_count": 5,
   "metadata": {},
   "outputs": [
    {
     "name": "stdout",
     "output_type": "stream",
     "text": [
      "<class 'int'>\n",
      "<class 'float'>\n",
      "<class 'str'>\n",
      "<class 'bool'>\n"
     ]
    }
   ],
   "source": [
    "# int\n",
    "print(type(5))\n",
    "# float\n",
    "print(type(2.5))\n",
    "# string\n",
    "print(type(\"Victor\"))\n",
    "# bool\n",
    "print(type(True))"
   ]
  },
  {
   "cell_type": "code",
   "execution_count": 10,
   "metadata": {},
   "outputs": [
    {
     "name": "stdout",
     "output_type": "stream",
     "text": [
      "1\n"
     ]
    },
    {
     "data": {
      "text/plain": [
       "int"
      ]
     },
     "metadata": {},
     "output_type": "display_data"
    }
   ],
   "source": [
    "# variables\n",
    "x = 1\n",
    "print(x)\n",
    "display(type(x))"
   ]
  },
  {
   "cell_type": "markdown",
   "metadata": {},
   "source": [
    "## Arithmetic Operators\n",
    "\n",
    "### Division\n",
    "There are two types of divisions in Python:\n",
    "- Float Division: Use \"/\" for float division. If the result is an integer, it'll\n",
    "  be converted to a float\n",
    "- Integer Division: Use \"//\" for integer division. If the result is a float,\n",
    "  it'll be converted to an int\n",
    "\n",
    "### Modulo\n",
    "\n",
    "- Modulo operator returns the remainder of a division\n",
    "- Use \"%\" operator "
   ]
  },
  {
   "cell_type": "code",
   "execution_count": 12,
   "metadata": {},
   "outputs": [
    {
     "name": "stdout",
     "output_type": "stream",
     "text": [
      "8\n",
      "4.5\n",
      "2.5\n",
      "2\n",
      "1\n"
     ]
    }
   ],
   "source": [
    "# add\n",
    "print(5+3)\n",
    "# sub\n",
    "print(6.5-2)\n",
    "# float div\n",
    "print(5/2)\n",
    "# int div\n",
    "print(5//2)\n",
    "# mod\n",
    "print(5%2)"
   ]
  },
  {
   "cell_type": "markdown",
   "metadata": {},
   "source": [
    "## Comparison Operators\n",
    "\n",
    "- Greater than \">\"\n",
    "- Lesser than \"<\"\n",
    "- Greater than or equal to \">=\"\n",
    "- Lesser than or equal to \"<=\"\n",
    "- Not equal to \"!=\"\n",
    "- Equal to \"==\""
   ]
  },
  {
   "cell_type": "markdown",
   "metadata": {},
   "source": [
    "## Logical Operators\n",
    "\n",
    "Used to combine two or more conditions\n",
    "\n",
    "- And\n",
    "- Or\n",
    "- Not"
   ]
  },
  {
   "cell_type": "code",
   "execution_count": 14,
   "metadata": {},
   "outputs": [
    {
     "name": "stdout",
     "output_type": "stream",
     "text": [
      "False\n",
      "True\n",
      "True\n",
      "False\n"
     ]
    }
   ],
   "source": [
    "print((17 > 12) and (12 > 20))\n",
    "print((17 > 12) or (12 > 20))\n",
    "\n",
    "x = True\n",
    "print(x)\n",
    "print(not x)"
   ]
  },
  {
   "cell_type": "markdown",
   "metadata": {},
   "source": [
    "## Conditional Statements\n",
    "\n",
    "- if\n",
    "- elif\n",
    "- else"
   ]
  },
  {
   "cell_type": "code",
   "execution_count": 15,
   "metadata": {},
   "outputs": [
    {
     "name": "stdout",
     "output_type": "stream",
     "text": [
      "2\n"
     ]
    }
   ],
   "source": [
    "if 5 == 6:\n",
    "    print(1)\n",
    "elif 6== 6:\n",
    "    print(2)\n",
    "else:\n",
    "    print(3)"
   ]
  },
  {
   "cell_type": "code",
   "execution_count": 17,
   "metadata": {},
   "outputs": [
    {
     "name": "stdout",
     "output_type": "stream",
     "text": [
      "2\n"
     ]
    }
   ],
   "source": [
    "if 7 > 3 and 10 < 5:\n",
    "    print(1)\n",
    "elif 7 > 3 and 5 < 10:\n",
    "    print(2)\n",
    "elif 3 > 7 and 10 < 5:\n",
    "    print(2)\n",
    "elif 3 > 7 and 5 < 10:\n",
    "    print(2)\n",
    "else:\n",
    "    print(3)"
   ]
  },
  {
   "cell_type": "markdown",
   "metadata": {},
   "source": [
    "## Loops\n",
    "\n",
    "- For\n",
    "- While"
   ]
  },
  {
   "cell_type": "code",
   "execution_count": 20,
   "metadata": {},
   "outputs": [
    {
     "name": "stdout",
     "output_type": "stream",
     "text": [
      "0\n",
      "2\n",
      "4\n",
      "6\n",
      "8\n",
      "10\n",
      "12\n",
      "14\n",
      "16\n",
      "18\n",
      "20\n"
     ]
    }
   ],
   "source": [
    "# For\n",
    "# range(start, stop, steps)\n",
    "for i in range(0, 21, 2):\n",
    "    print(i)"
   ]
  },
  {
   "cell_type": "code",
   "execution_count": 23,
   "metadata": {},
   "outputs": [
    {
     "name": "stdout",
     "output_type": "stream",
     "text": [
      "1\n",
      "2\n",
      "3\n",
      "4\n",
      "5\n",
      "6\n",
      "7\n",
      "8\n",
      "9\n"
     ]
    }
   ],
   "source": [
    "# While\n",
    "i = 1\n",
    "while(i < 10):\n",
    "    print(i)\n",
    "    i += 1"
   ]
  },
  {
   "cell_type": "code",
   "execution_count": 25,
   "metadata": {},
   "outputs": [
    {
     "name": "stdout",
     "output_type": "stream",
     "text": [
      "Welcome Victor !!\n"
     ]
    }
   ],
   "source": [
    "# While infinite loop (bad idea)\n",
    "while True:\n",
    "    userName = input(\"Enter your username: \")\n",
    "    if userName == \"Victor\":\n",
    "        print(\"Welcome\", userName, \"!!\")\n",
    "        break\n",
    "    else:\n",
    "        print(\"Wrong username...\")"
   ]
  },
  {
   "cell_type": "markdown",
   "metadata": {},
   "source": [
    "## Sequences\n",
    "\n",
    "- Lists\n",
    "- Dictionaries\n",
    "- Tuples"
   ]
  },
  {
   "cell_type": "code",
   "execution_count": 36,
   "metadata": {},
   "outputs": [
    {
     "name": "stdout",
     "output_type": "stream",
     "text": [
      "3\n",
      "Lily\n",
      "Tulip\n",
      "['Lily', 'Tulip']\n",
      "['Rose', 'Lily', 'Tulip']\n",
      "['Lily', 'Tulip']\n",
      "\n",
      "Rose\n",
      "Lily\n",
      "Tulip\n"
     ]
    }
   ],
   "source": [
    "flowersList = [\"Rose\", \"Lily\", \"Tulip\"]\n",
    "print(len(flowersList))\n",
    "print(flowersList[1]) # 2nd element\n",
    "print(flowersList[-1]) # last element\n",
    "print(flowersList[1:3]) # slicing, 2nd to 3rd\n",
    "print(flowersList[0:]) # slicing, 1st to end\n",
    "print(flowersList[1:]) # slicing, 2nd to end\n",
    "\n",
    "print()\n",
    "\n",
    "for i in flowersList:\n",
    "    print(i)"
   ]
  },
  {
   "cell_type": "code",
   "execution_count": 42,
   "metadata": {},
   "outputs": [
    {
     "name": "stdout",
     "output_type": "stream",
     "text": [
      "dict_keys(['English', 'Portuguese', 'Maths', 'History'])\n",
      "dict_values(['B', 'A+', 'B', 'B'])\n",
      "B\n",
      "\n",
      "B\n",
      "A+\n",
      "B\n",
      "B\n"
     ]
    }
   ],
   "source": [
    "# Dictionaries (key -> values)\n",
    "\n",
    "gradesDict = {\"English\": 'B', \"Portuguese\": 'A+', \"Maths\": 'B', \"History\": 'B'}\n",
    "print(gradesDict.keys())\n",
    "print(gradesDict.values())\n",
    "print(gradesDict['History'])\n",
    "\n",
    "print()\n",
    "\n",
    "for key in gradesDict:\n",
    "    print(gradesDict[key])"
   ]
  },
  {
   "cell_type": "code",
   "execution_count": 44,
   "metadata": {},
   "outputs": [
    {
     "name": "stdout",
     "output_type": "stream",
     "text": [
      "3\n",
      "Lily\n",
      "Tulip\n",
      "('Lily', 'Tulip')\n",
      "('Rose', 'Lily', 'Tulip')\n",
      "('Lily', 'Tulip')\n",
      "\n",
      "Rose\n",
      "Lily\n",
      "Tulip\n"
     ]
    }
   ],
   "source": [
    "# Tuples: immutable lists\n",
    "flowersTuple = (\"Rose\", \"Lily\", \"Tulip\")\n",
    "print(len(flowersTuple))\n",
    "print(flowersTuple[1]) # 2nd element\n",
    "print(flowersTuple[-1]) # last element\n",
    "print(flowersTuple[1:3]) # slicing, 2nd to 3rd\n",
    "print(flowersTuple[0:]) # slicing, 1st to end\n",
    "print(flowersTuple[1:]) # slicing, 2nd to end\n",
    "\n",
    "print()\n",
    "\n",
    "for i in flowersTuple:\n",
    "    print(i)"
   ]
  },
  {
   "cell_type": "markdown",
   "metadata": {},
   "source": [
    "## Built-in functions\n",
    "\n",
    "[Docs](https://docs.python.org/3/library/functions.html)\n",
    "\n",
    "E.g:\n",
    "- len()\n",
    "- abs()\n",
    "- max()"
   ]
  }
 ],
 "metadata": {
  "kernelspec": {
   "display_name": "base",
   "language": "python",
   "name": "python3"
  },
  "language_info": {
   "codemirror_mode": {
    "name": "ipython",
    "version": 3
   },
   "file_extension": ".py",
   "mimetype": "text/x-python",
   "name": "python",
   "nbconvert_exporter": "python",
   "pygments_lexer": "ipython3",
   "version": "3.12.4"
  }
 },
 "nbformat": 4,
 "nbformat_minor": 2
}
