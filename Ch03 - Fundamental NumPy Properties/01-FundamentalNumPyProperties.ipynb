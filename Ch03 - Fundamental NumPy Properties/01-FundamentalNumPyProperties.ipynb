{
 "cells": [
  {
   "cell_type": "markdown",
   "metadata": {},
   "source": [
    "## NumPy Arrays\n",
    "\n",
    "- Are multidimensional data structures, designed to handle large data sets easily\n",
    "- A NumPy array is called **ndarray**\n",
    "- Allows find the number of dimensions of a NumPy array using `.ndim`\n",
    "\n",
    "## NumPy Arrays vs Python Lists\n",
    "\n",
    "- NumPy arrays provide more built-in functionality as compared to Python Lists\n",
    "- NumPy arrays make working with huge multidimensional data sets much easier\n",
    "  with fewer syntax\n",
    "- NumPy arrays are also more efficient than Python lists in terms of memory\n",
    "  consumption and speed"
   ]
  },
  {
   "cell_type": "markdown",
   "metadata": {},
   "source": [
    "## 1-D NumPy Arrays\n",
    "\n",
    "- where each element of the outermost array is a 0-D array (scalar)\n",
    "- we can create a NumPy array using the `array()` function in the NumPy library\n",
    "- we can create a NumPy array using either Python lists or tuples\n",
    "- To create a 1-D NumPy array, we provide a 1-D Python list or tuple to the\n",
    "  `array()` function"
   ]
  },
  {
   "cell_type": "code",
   "execution_count": 4,
   "metadata": {},
   "outputs": [
    {
     "name": "stdout",
     "output_type": "stream",
     "text": [
      "[1 2 3 4 5]\n",
      "<class 'numpy.ndarray'>\n",
      "1\n",
      "[[1 2 3]\n",
      " [4 5 6]]\n",
      "<class 'numpy.ndarray'>\n",
      "2\n"
     ]
    }
   ],
   "source": [
    "import numpy as np\n",
    "\n",
    "oneDArray = np.array([1, 2, 3, 4, 5])\n",
    "print(oneDArray)\n",
    "print(type(oneDArray))\n",
    "print(oneDArray.ndim)\n",
    "\n",
    "twoDArray = np.array([[1, 2, 3], [4, 5, 6]])\n",
    "print(twoDArray)\n",
    "print(type(twoDArray))\n",
    "print(twoDArray.ndim)"
   ]
  },
  {
   "cell_type": "markdown",
   "metadata": {},
   "source": [
    "## 3-D NumPy arrays\n",
    "\n",
    "- where each element of the outmost array is a 2-D array\n",
    "- To create a 3-D NumPy array, we provide a 3-D Python list or tuple to the\n",
    "  `array()` function"
   ]
  },
  {
   "cell_type": "code",
   "execution_count": 10,
   "metadata": {},
   "outputs": [
    {
     "name": "stdout",
     "output_type": "stream",
     "text": [
      "[[[ 1  2  3]\n",
      "  [-1 -2 -3]]\n",
      "\n",
      " [[ 4  5  6]\n",
      "  [-4 -5 -6]]]\n",
      "<class 'numpy.ndarray'>\n",
      "3\n"
     ]
    }
   ],
   "source": [
    "import numpy as np\n",
    "\n",
    "trheeDArray = np.array([\n",
    "    [[1, 2, 3], [-1, -2, -3]], # 1st 2-D list\n",
    "    [[4, 5, 6], [-4, -5, -6]]  # 2nd 2-D list\n",
    "])\n",
    "print(trheeDArray)\n",
    "print(type(trheeDArray))\n",
    "print(trheeDArray.ndim)"
   ]
  },
  {
   "cell_type": "markdown",
   "metadata": {},
   "source": [
    "## Indexing NumPy Arrays\n",
    "\n",
    "### 1-D NumPy arrays\n",
    "\n",
    "- Indexing a 1-D NumPy array is the same as indexing a 1-D Python list\n",
    "- Provide the index of the element inside the square brackets to get that element\n"
   ]
  },
  {
   "cell_type": "code",
   "execution_count": 11,
   "metadata": {},
   "outputs": [
    {
     "name": "stdout",
     "output_type": "stream",
     "text": [
      "3\n"
     ]
    }
   ],
   "source": [
    "import numpy as np\n",
    "\n",
    "oneDArray = np.array([1, 2, 3, 4, 5])\n",
    "print(oneDArray[2])"
   ]
  },
  {
   "cell_type": "markdown",
   "metadata": {},
   "source": [
    "### 2-D NumPy arrays"
   ]
  },
  {
   "cell_type": "code",
   "execution_count": 14,
   "metadata": {},
   "outputs": [
    {
     "name": "stdout",
     "output_type": "stream",
     "text": [
      "[4 5 6]\n",
      "6\n",
      "6\n"
     ]
    }
   ],
   "source": [
    "import numpy as np\n",
    "\n",
    "twoDArray = np.array([[1, 2, 3], [4, 5, 6]])\n",
    "print(twoDArray[1])\n",
    "print(twoDArray[1][2])\n",
    "print(twoDArray[1, 2])"
   ]
  },
  {
   "cell_type": "markdown",
   "metadata": {},
   "source": [
    "3-D NumPy Arrays\n",
    "\n",
    "- To index a 3-D NumPy array, we provide 3 values inside the square brackets\n",
    "  - 1st is the index of the inner 2-D array in the first dimension\n",
    "  - 2nd is the index of the inner 1-D array in the second dimension\n",
    "  - 3rd is the index of the element in the third dimension"
   ]
  },
  {
   "cell_type": "code",
   "execution_count": 22,
   "metadata": {},
   "outputs": [
    {
     "name": "stdout",
     "output_type": "stream",
     "text": [
      "[[ 4  5  6]\n",
      " [-4 -5 -6]]\n",
      "[4 5 6]\n",
      "[4 5 6]\n",
      "6\n",
      "6\n"
     ]
    }
   ],
   "source": [
    "import numpy as np\n",
    "\n",
    "trheeDArray = np.array([\n",
    "    [[1, 2, 3], [-1, -2, -3]], # 1st 2-D list\n",
    "    [[4, 5, 6], [-4, -5, -6]]  # 2nd 2-D list\n",
    "])\n",
    "\n",
    "print(trheeDArray[1])\n",
    "print(trheeDArray[1][0])\n",
    "print(trheeDArray[1, 0])\n",
    "print(trheeDArray[1][0][2])\n",
    "print(trheeDArray[1, 0, 2])"
   ]
  },
  {
   "cell_type": "markdown",
   "metadata": {},
   "source": [
    "## Array Shape\n",
    "\n",
    "NumPy arrays have a `shape` attribute which returns a tuple:\n",
    "- 1st value gives the number of dimensions in the array\n",
    "- 2nd value gives the number of elements in each dimension"
   ]
  },
  {
   "cell_type": "code",
   "execution_count": 23,
   "metadata": {},
   "outputs": [
    {
     "name": "stdout",
     "output_type": "stream",
     "text": [
      "(2, 3)\n"
     ]
    }
   ],
   "source": [
    "import numpy as np\n",
    "\n",
    "twoDArray = np.array([[1, 2, 3], [4, 5, 6]])\n",
    "print(twoDArray.shape)"
   ]
  },
  {
   "cell_type": "markdown",
   "metadata": {},
   "source": [
    "## Iterating over NumPy arrays\n",
    "\n",
    "### 1-D NumPy arrays\n",
    "\n",
    "- Iterate over a 1-D array just the way we do in a 1-D Python list\n"
   ]
  },
  {
   "cell_type": "code",
   "execution_count": 24,
   "metadata": {},
   "outputs": [
    {
     "name": "stdout",
     "output_type": "stream",
     "text": [
      "1\n",
      "2\n",
      "3\n",
      "4\n",
      "5\n"
     ]
    }
   ],
   "source": [
    "import numpy as np\n",
    "\n",
    "oneDArray = np.array([1, 2, 3, 4, 5])\n",
    "\n",
    "for i in oneDArray:\n",
    "    print(i)"
   ]
  },
  {
   "cell_type": "markdown",
   "metadata": {},
   "source": [
    "### 2-D NumPy arrays\n",
    "\n",
    "Use a nested `For` loop to iterate over a 2-D NumPy array:\n",
    "- The outer For loop iterates over the outer array\n",
    "- The inner For loop iterates over the inner array"
   ]
  },
  {
   "cell_type": "code",
   "execution_count": 27,
   "metadata": {},
   "outputs": [
    {
     "name": "stdout",
     "output_type": "stream",
     "text": [
      "1\n",
      "2\n",
      "3\n",
      "4\n",
      "5\n",
      "6\n"
     ]
    }
   ],
   "source": [
    "import numpy as np\n",
    "\n",
    "twoDArray = np.array([[1, 2, 3], [4, 5, 6]])\n",
    "\n",
    "for i in twoDArray:\n",
    "    for j in i:\n",
    "        print(j)"
   ]
  },
  {
   "cell_type": "markdown",
   "metadata": {},
   "source": [
    "### 3-D NumPy arrays\n",
    "\n",
    "Use a nested `For` loop to iterate over a 3-D NumPy array:\n",
    "- The outer For loop iterates over the array in the first dimension\n",
    "- The middle For loop iterates over the array in the second dimension\n",
    "- The inner For loop iterates over the array in the third dimension"
   ]
  },
  {
   "cell_type": "code",
   "execution_count": 29,
   "metadata": {},
   "outputs": [
    {
     "name": "stdout",
     "output_type": "stream",
     "text": [
      "1\n",
      "2\n",
      "3\n",
      "-1\n",
      "-2\n",
      "-3\n",
      "4\n",
      "5\n",
      "6\n",
      "-4\n",
      "-5\n",
      "-6\n",
      "1\n",
      "2\n",
      "3\n",
      "-1\n",
      "-2\n",
      "-3\n",
      "4\n",
      "5\n",
      "6\n",
      "-4\n",
      "-5\n",
      "-6\n"
     ]
    }
   ],
   "source": [
    "import numpy as np\n",
    "\n",
    "trheeDArray = np.array([\n",
    "    [[1, 2, 3], [-1, -2, -3]], # 1st 2-D list\n",
    "    [[4, 5, 6], [-4, -5, -6]]  # 2nd 2-D list\n",
    "])\n",
    "\n",
    "for i in trheeDArray:\n",
    "    for j in i:\n",
    "        for k in j:\n",
    "            print(k)\n",
    "\n",
    "for matrix in trheeDArray:\n",
    "    for row in matrix:\n",
    "        for scalar in row:\n",
    "            print(scalar)"
   ]
  }
 ],
 "metadata": {
  "kernelspec": {
   "display_name": "base",
   "language": "python",
   "name": "python3"
  },
  "language_info": {
   "codemirror_mode": {
    "name": "ipython",
    "version": 3
   },
   "file_extension": ".py",
   "mimetype": "text/x-python",
   "name": "python",
   "nbconvert_exporter": "python",
   "pygments_lexer": "ipython3",
   "version": "3.12.4"
  }
 },
 "nbformat": 4,
 "nbformat_minor": 2
}
