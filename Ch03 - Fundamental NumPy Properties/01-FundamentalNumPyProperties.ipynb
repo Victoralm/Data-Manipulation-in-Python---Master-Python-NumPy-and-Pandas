{
 "cells": [
  {
   "cell_type": "markdown",
   "metadata": {},
   "source": [
    "## NumPy Arrays\n",
    "\n",
    "- Are multidimensional data structures, designed to handle large data sets easily\n",
    "- A NumPy array is called **ndarray**\n",
    "- Allows find the number of dimensions of a NumPy array using `.ndim`\n",
    "\n",
    "## NumPy Arrays vs Python Lists\n",
    "\n",
    "- NumPy arrays provide more built-in functionality as compared to Python Lists\n",
    "- NumPy arrays make working with huge multidimensional data sets much easier\n",
    "  with fewer syntax\n",
    "- NumPy arrays are also more efficient than Python lists in terms of memory\n",
    "  consumption and speed"
   ]
  },
  {
   "cell_type": "markdown",
   "metadata": {},
   "source": [
    "## 1-D NumPy Arrays\n",
    "\n",
    "- where each element of the outermost array is a 0-D array (scalar)\n",
    "- we can create a NumPy array using the `array()` function in the NumPy library\n",
    "- we can create a NumPy array using either Python lists or tuples\n",
    "- To create a 1-D NumPy array, we provide a 1-D Python list or tuple to the\n",
    "  `array()` function"
   ]
  },
  {
   "cell_type": "code",
   "execution_count": 4,
   "metadata": {},
   "outputs": [
    {
     "name": "stdout",
     "output_type": "stream",
     "text": [
      "[1 2 3 4 5]\n",
      "<class 'numpy.ndarray'>\n",
      "1\n",
      "[[1 2 3]\n",
      " [4 5 6]]\n",
      "<class 'numpy.ndarray'>\n",
      "2\n"
     ]
    }
   ],
   "source": [
    "import numpy as np\n",
    "\n",
    "oneDArray = np.array([1, 2, 3, 4, 5])\n",
    "print(oneDArray)\n",
    "print(type(oneDArray))\n",
    "print(oneDArray.ndim)\n",
    "\n",
    "twoDArray = np.array([[1, 2, 3], [4, 5, 6]])\n",
    "print(twoDArray)\n",
    "print(type(twoDArray))\n",
    "print(twoDArray.ndim)"
   ]
  },
  {
   "cell_type": "markdown",
   "metadata": {},
   "source": [
    "## 3-D NumPy arrays\n",
    "\n",
    "- where each element of the outmost array is a 2-D array\n",
    "- To create a 3-D NumPy array, we provide a 3-D Python list or tuple to the\n",
    "  `array()` function"
   ]
  },
  {
   "cell_type": "code",
   "execution_count": 10,
   "metadata": {},
   "outputs": [
    {
     "name": "stdout",
     "output_type": "stream",
     "text": [
      "[[[ 1  2  3]\n",
      "  [-1 -2 -3]]\n",
      "\n",
      " [[ 4  5  6]\n",
      "  [-4 -5 -6]]]\n",
      "<class 'numpy.ndarray'>\n",
      "3\n"
     ]
    }
   ],
   "source": [
    "import numpy as np\n",
    "\n",
    "trheeDArray = np.array([\n",
    "    [[1, 2, 3], [-1, -2, -3]], # 1st 2-D list\n",
    "    [[4, 5, 6], [-4, -5, -6]]  # 2nd 2-D list\n",
    "])\n",
    "print(trheeDArray)\n",
    "print(type(trheeDArray))\n",
    "print(trheeDArray.ndim)"
   ]
  }
 ],
 "metadata": {
  "kernelspec": {
   "display_name": "base",
   "language": "python",
   "name": "python3"
  },
  "language_info": {
   "codemirror_mode": {
    "name": "ipython",
    "version": 3
   },
   "file_extension": ".py",
   "mimetype": "text/x-python",
   "name": "python",
   "nbconvert_exporter": "python",
   "pygments_lexer": "ipython3",
   "version": "3.12.4"
  }
 },
 "nbformat": 4,
 "nbformat_minor": 2
}
