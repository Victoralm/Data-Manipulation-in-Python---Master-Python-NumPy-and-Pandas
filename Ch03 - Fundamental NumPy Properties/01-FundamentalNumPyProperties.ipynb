{
 "cells": [
  {
   "cell_type": "markdown",
   "metadata": {},
   "source": [
    "## NumPy Arrays\n",
    "\n",
    "- Are multidimensional data structures, designed to handle large data sets easily\n",
    "- A NumPy array is called **ndarray**\n",
    "- Allows find the number of dimensions of a NumPy array using __.ndim__\n",
    "\n",
    "## NumPy Arrays vs Python Lists\n",
    "\n",
    "- NumPy arrays provide more built-in functionality as compared to Python Lists\n",
    "- NumPy arrays make working with huge multidimensional data sets much easier\n",
    "  with fewer syntax\n",
    "- NumPy arrays are also more efficient than Python lists in terms of memory\n",
    "  consumption and speed"
   ]
  }
 ],
 "metadata": {
  "language_info": {
   "name": "python"
  }
 },
 "nbformat": 4,
 "nbformat_minor": 2
}
