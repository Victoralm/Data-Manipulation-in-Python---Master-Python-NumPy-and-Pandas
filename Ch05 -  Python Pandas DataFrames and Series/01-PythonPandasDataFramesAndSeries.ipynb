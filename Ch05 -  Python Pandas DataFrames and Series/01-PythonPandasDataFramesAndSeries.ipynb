{
 "cells": [
  {
   "cell_type": "markdown",
   "metadata": {},
   "source": [
    "## Data Structures in Pandas\n",
    "\n",
    "Pandas has two main data structures:\n",
    "- DataFrame, which is two dimensional\n",
    "- Series, which is one dimensional\n",
    "![alt text](../img/01-PandasData.png)\n",
    "\n",
    "### What is Pandas DataFrame\n",
    "\n",
    "- A two dimensional data structure\n",
    "- A row is represented by row labels, also called index, which may be numerical\n",
    "  or string\n",
    "- A column is represented by column labels which may be numerical or string\n",
    "- Following DataFrame contains 10 rows (0-9) and 5 columns (name, calories,\n",
    "  protein, vitamins, rating)\n",
    "  ![alt text](../img/05-PandasDataFrame.png)\n",
    "\n",
    "### What is Pandas Series\n",
    "\n",
    "- A one dimensional data structure\n",
    "- It consists of a single row or column\n",
    "- Following Series contains 10 rows (0-9) and 1 column called calories\n",
    "![alt text](../img/05-PandasSeries.png)"
   ]
  },
  {
   "cell_type": "markdown",
   "metadata": {},
   "source": []
  }
 ],
 "metadata": {
  "kernelspec": {
   "display_name": "base",
   "language": "python",
   "name": "python3"
  },
  "language_info": {
   "name": "python",
   "version": "3.12.4"
  }
 },
 "nbformat": 4,
 "nbformat_minor": 2
}
